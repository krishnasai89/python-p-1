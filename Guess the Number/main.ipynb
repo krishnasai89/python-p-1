{
 "cells": [
  {
   "cell_type": "code",
   "execution_count": 1,
   "metadata": {},
   "outputs": [
    {
     "name": "stdout",
     "output_type": "stream",
     "text": [
      "You can guess the number.\n",
      " what the computer think the number\n",
      "6\n",
      "Sorry,guess again. Too low.\n",
      "7\n",
      "Sorry,guess again. Too low.\n",
      "9\n",
      "Yay, congrats. You have guessed the number 9 correctly!!\n",
      "You can think the number.\n",
      " computer will gusse the number\n",
      "The computer guessed your number, 10, correctly!\n"
     ]
    }
   ],
   "source": [
    "import random\n",
    "print(\"You can guess the number.\\n what the computer think the number\")\n",
    "def guess(x):\n",
    "    random_number=random.randint(1,x)\n",
    "    guess=0\n",
    "    while guess != random_number:\n",
    "        guess=int(input(f'Guess a number between 1 and {x}:'))\n",
    "        print(guess)\n",
    "        if guess < random_number:\n",
    "            print('Sorry,guess again. Too low.')\n",
    "        elif guess > random_number:\n",
    "            print('Sorry, guess again. Too high.')\n",
    "    print(f'Yay, congrats. You have guessed the number {random_number} correctly!!')\n",
    "guess(10)\n",
    "print(\"You can think the number.\\n computer will gusse the number\")\n",
    "def computer_guess(x):\n",
    "    low = 1\n",
    "    high = x\n",
    "    feedback = ''\n",
    "    while feedback != 'c':\n",
    "        if low != high:\n",
    "            guess = random.randint(low, high)\n",
    "        else:\n",
    "            guess = low  # Could also be high since low == high\n",
    "        feedback = input(f'Is {guess} too high (H), too low (L), or correct (C)? ').lower()\n",
    "        if feedback == 'h':\n",
    "            high = guess - 1\n",
    "        elif feedback == 'l':\n",
    "            low = guess + 1\n",
    "        \n",
    "    print(f'The computer guessed your number, {guess}, correctly!')\n",
    "\n",
    "computer_guess(10)\n"
   ]
  }
 ],
 "metadata": {
  "kernelspec": {
   "display_name": "Python 3",
   "language": "python",
   "name": "python3"
  },
  "language_info": {
   "codemirror_mode": {
    "name": "ipython",
    "version": 3
   },
   "file_extension": ".py",
   "mimetype": "text/x-python",
   "name": "python",
   "nbconvert_exporter": "python",
   "pygments_lexer": "ipython3",
   "version": "3.12.4"
  }
 },
 "nbformat": 4,
 "nbformat_minor": 2
}
