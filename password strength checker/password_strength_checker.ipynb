{
 "cells": [
  {
   "cell_type": "code",
   "execution_count": 1,
   "metadata": {},
   "outputs": [
    {
     "name": "stdout",
     "output_type": "stream",
     "text": [
      "Password: kjdsfgvkiw n@fewikl56\n",
      "Score: 4/4\n",
      "Crack Time: centuries\n",
      "Feedback:\n"
     ]
    }
   ],
   "source": [
    "from zxcvbn import zxcvbn\n",
    "import getpass\n",
    "\n",
    "def check_password_strength():\n",
    "    password = getpass.getpass(\"Enter your password: \")\n",
    "    result = zxcvbn(password)\n",
    "    \n",
    "    print(f\"Password: {result['password']}\")\n",
    "    print(f\"Score: {result['score']}/4\")\n",
    "    print(f\"Crack Time: {result['crack_times_display']['offline_slow_hashing_1e4_per_second']}\")\n",
    "    print(\"Feedback:\")\n",
    "    for suggestion in result['feedback']['suggestions']:\n",
    "        print(f\"- {suggestion}\")\n",
    "\n",
    "if __name__ == \"__main__\":\n",
    "    check_password_strength()\n"
   ]
  }
 ],
 "metadata": {
  "kernelspec": {
   "display_name": "Python 3",
   "language": "python",
   "name": "python3"
  },
  "language_info": {
   "codemirror_mode": {
    "name": "ipython",
    "version": 3
   },
   "file_extension": ".py",
   "mimetype": "text/x-python",
   "name": "python",
   "nbconvert_exporter": "python",
   "pygments_lexer": "ipython3",
   "version": "3.12.4"
  }
 },
 "nbformat": 4,
 "nbformat_minor": 2
}
